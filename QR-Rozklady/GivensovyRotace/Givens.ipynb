{
 "cells": [
  {
   "cell_type": "code",
   "execution_count": 1,
   "metadata": {},
   "outputs": [],
   "source": [
    "import numpy as np"
   ]
  },
  {
   "cell_type": "code",
   "execution_count": 9,
   "metadata": {},
   "outputs": [],
   "source": []
  },
  {
   "cell_type": "code",
   "execution_count": 33,
   "metadata": {},
   "outputs": [
    {
     "name": "stdout",
     "output_type": "stream",
     "text": [
      "Q MATRIX:\n",
      "[[ 0.26726124  0.77754191 -0.56920998]\n",
      " [ 0.53452248  0.37186787  0.75894664]\n",
      " [ 0.80178373 -0.50709255 -0.31622777]]\n",
      "R MATRIX:\n",
      "[[ 3.74165739e+00  6.41426981e+00  4.00891863e+00]\n",
      " [ 0.00000000e+00  4.22577127e+00  4.56383298e+00]\n",
      " [ 0.00000000e+00 -3.87495173e-16  2.84604989e+00]]\n"
     ]
    }
   ],
   "source": [
    "\n",
    "matrix = np.array([[1, 5, 3], [2, 5, 6], [3, 3, 0]])\n",
    "matrix_prev = matrix.copy()\n",
    "\n",
    "G_arr = []\n",
    "\n",
    "# Iterace přes sloupce\n",
    "for i in range(min(matrix.shape[0], matrix.shape[1])):  # Zajišťuje, že nepřekročíme dimenze\n",
    "    # Iterace přes řádky pod hlavní diagonálou\n",
    "    for j in range(i+1, matrix.shape[0]):\n",
    "        givens_matrix = np.eye(matrix.shape[0])\n",
    "\n",
    "        # Výpočet koeficientů rotace\n",
    "        cos = matrix[i, i] / np.sqrt(matrix[i, i]**2 + matrix[j, i]**2)\n",
    "        sin = matrix[j, i] / np.sqrt(matrix[i, i]**2 + matrix[j, i]**2)\n",
    "\n",
    "        # Nastavení prvků matice rotace\n",
    "        givens_matrix[i, i] = cos\n",
    "        givens_matrix[j, j] = cos\n",
    "        givens_matrix[j, i] = -sin\n",
    "        givens_matrix[i, j] = sin\n",
    "\n",
    "        # Aplikace rotace na matici\n",
    "        matrix = givens_matrix @ matrix\n",
    "\n",
    "        # Ukládání rotací pro pozdější výpočet Q\n",
    "        G_arr.append(givens_matrix)\n",
    "\n",
    "R = matrix  # Výsledná horní trojúhelníková matice R\n",
    "\n",
    "# Výpočet Q jako produktu transponovaných matic Givensových rotací\n",
    "Q = np.eye(matrix.shape[0])\n",
    "for g in G_arr:\n",
    "    Q = Q @ g.T\n",
    "\n",
    "# Výpis výsledků\n",
    "print(\"Q MATRIX:\")\n",
    "print(Q)\n",
    "print(\"R MATRIX:\")\n",
    "print(R)\n"
   ]
  },
  {
   "cell_type": "code",
   "execution_count": 36,
   "metadata": {},
   "outputs": [
    {
     "data": {
      "text/plain": [
       "array([[ 1.        ,  2.90929545, -2.12978872],\n",
       "       [ 3.97305547,  6.5587922 , -0.44393148],\n",
       "       [ 5.7928164 ,  3.37103442,  0.28178921]])"
      ]
     },
     "execution_count": 36,
     "metadata": {},
     "output_type": "execute_result"
    }
   ],
   "source": [
    "# Eigen values\n"
   ]
  },
  {
   "cell_type": "code",
   "execution_count": null,
   "metadata": {},
   "outputs": [],
   "source": []
  }
 ],
 "metadata": {
  "kernelspec": {
   "display_name": "Pytorch",
   "language": "python",
   "name": "python3"
  },
  "language_info": {
   "codemirror_mode": {
    "name": "ipython",
    "version": 3
   },
   "file_extension": ".py",
   "mimetype": "text/x-python",
   "name": "python",
   "nbconvert_exporter": "python",
   "pygments_lexer": "ipython3",
   "version": "3.11.5"
  }
 },
 "nbformat": 4,
 "nbformat_minor": 2
}
