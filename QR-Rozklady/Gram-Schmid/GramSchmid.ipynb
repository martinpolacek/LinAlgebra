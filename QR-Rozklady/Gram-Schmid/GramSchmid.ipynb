{
 "cells": [
  {
   "cell_type": "code",
   "execution_count": 1,
   "metadata": {},
   "outputs": [],
   "source": [
    "import numpy as np"
   ]
  },
  {
   "cell_type": "code",
   "execution_count": 2,
   "metadata": {},
   "outputs": [],
   "source": [
    "# Klasický způsob\n",
    "A = np.array([[1, 5, 3], [2, 5, 6], [3, 3, 0]])\n",
    "m, n = A.shape\n",
    "Q = np.zeros((m, n))\n",
    "R = np.zeros((n, n))\n",
    "\n",
    "R[0, 0] = np.linalg.norm(A[:, 0])\n",
    "q1 = A[:, 0] / R[0, 0]\n",
    "Q[:, 0] = q1\n",
    "\n",
    "for i in range(1, n):\n",
    "    z = A[:, i]\n",
    "    R[:i,i]\n"
   ]
  },
  {
   "cell_type": "code",
   "execution_count": 3,
   "metadata": {},
   "outputs": [
    {
     "data": {
      "text/plain": [
       "(array([[ 0.26726124,  0.77754191, -0.56920998],\n",
       "        [ 0.53452248,  0.37186787,  0.75894664],\n",
       "        [ 0.80178373, -0.50709255, -0.31622777]]),\n",
       " array([[3.74165739, 6.41426981, 4.00891863],\n",
       "        [0.        , 4.22577127, 4.56383298],\n",
       "        [0.        , 0.        , 2.84604989]]))"
      ]
     },
     "execution_count": 3,
     "metadata": {},
     "output_type": "execute_result"
    }
   ],
   "source": [
    "def gram_schmidt(A):\n",
    "    m, n = A.shape\n",
    "    Q = np.zeros((m, n))\n",
    "    R = np.zeros((n, n))\n",
    "\n",
    "    for k in range(n):\n",
    "        v_k = A[:, k]\n",
    "        for i in range(k):\n",
    "            R[i, k] = np.dot(Q[:, i].T, A[:, k])\n",
    "            v_k = v_k - R[i, k] * Q[:, i]\n",
    "        R[k, k] = np.linalg.norm(v_k)\n",
    "        Q[:, k] = v_k / R[k, k]\n",
    "\n",
    "    return Q, R\n",
    "\n",
    "# Matice A\n",
    "A = np.array([[1, 5, 3], [2, 5, 6], [3, 3, 0]])\n",
    "Q, R = gram_schmidt(A)\n",
    "\n",
    "Q, R"
   ]
  },
  {
   "cell_type": "code",
   "execution_count": null,
   "metadata": {},
   "outputs": [],
   "source": []
  },
  {
   "cell_type": "code",
   "execution_count": null,
   "metadata": {},
   "outputs": [],
   "source": []
  }
 ],
 "metadata": {
  "kernelspec": {
   "display_name": "Pytorch",
   "language": "python",
   "name": "python3"
  },
  "language_info": {
   "codemirror_mode": {
    "name": "ipython",
    "version": 3
   },
   "file_extension": ".py",
   "mimetype": "text/x-python",
   "name": "python",
   "nbconvert_exporter": "python",
   "pygments_lexer": "ipython3",
   "version": "3.11.5"
  }
 },
 "nbformat": 4,
 "nbformat_minor": 2
}
