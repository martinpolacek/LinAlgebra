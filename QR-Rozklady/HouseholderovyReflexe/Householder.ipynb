{
 "cells": [
  {
   "cell_type": "code",
   "execution_count": 3,
   "metadata": {},
   "outputs": [],
   "source": [
    "import numpy as np"
   ]
  },
  {
   "cell_type": "code",
   "execution_count": 166,
   "metadata": {},
   "outputs": [],
   "source": [
    "\n"
   ]
  },
  {
   "cell_type": "code",
   "execution_count": 191,
   "metadata": {},
   "outputs": [
    {
     "name": "stdout",
     "output_type": "stream",
     "text": [
      "Q MATRIX:\n",
      "[[-0.26726124 -0.77754191  0.56920998]\n",
      " [-0.53452248 -0.37186787 -0.75894664]\n",
      " [-0.80178373  0.50709255  0.31622777]]\n",
      "R MATRIX:\n",
      "[[-3.74165739e+00 -6.41426981e+00 -4.00891863e+00]\n",
      " [-9.14171533e-17 -4.22577127e+00 -4.56383298e+00]\n",
      " [ 4.48535486e-16  4.33753949e-16 -2.84604989e+00]]\n"
     ]
    }
   ],
   "source": [
    "matrix = np.array([[1, 5, 3], [2, 5, 6], [3, 3, 0]])\n",
    "matrix_prev = matrix.copy()\n",
    "reflexion_matrixs = []\n",
    "\n",
    "for col in range(matrix.shape[1]):\n",
    "\n",
    "    if(col == 0):\n",
    "        curr_mat = matrix[col:, col:]\n",
    "    else:\n",
    "        curr_mat = matrix[1:, 1:]\n",
    "\n",
    "    if(curr_mat.ndim == 1):\n",
    "        curr_mat = curr_mat.reshape(-1, 1)\n",
    "\n",
    "    column = curr_mat[:, 0]\n",
    "\n",
    "    norm = np.linalg.norm(column)\n",
    "\n",
    "    v = column + np.sign(column[0]) * norm * np.eye(column.shape[0], 1).flatten()\n",
    "\n",
    "    v = (v / np.linalg.norm(v)).reshape(-1, 1)\n",
    "\n",
    "    H = np.eye(column.shape[0]) - 2 * v @ v.T\n",
    "\n",
    "    Hx = H @ curr_mat\n",
    "\n",
    "    matrix = Hx\n",
    "\n",
    "    eye_H = np.eye(matrix_prev.shape[0])\n",
    "    eye_H[col:, col:] = H\n",
    "\n",
    "    reflexion_matrixs.append(eye_H)\n",
    "\n",
    "    #print(Hx)\n",
    "\n",
    "Q = np.eye(matrix_prev.shape[0])\n",
    "for H in reflexion_matrixs:\n",
    "    Q = Q @ H\n",
    "\n",
    "R = matrix_prev\n",
    "for H in reflexion_matrixs:\n",
    "    R = H @ R\n",
    "\n",
    "print(\"Q MATRIX:\")\n",
    "print(Q)\n",
    "print(\"R MATRIX:\")\n",
    "print(R)"
   ]
  },
  {
   "cell_type": "code",
   "execution_count": 122,
   "metadata": {},
   "outputs": [
    {
     "data": {
      "text/plain": [
       "array([[1, 5, 3],\n",
       "       [2, 5, 6],\n",
       "       [3, 3, 9]])"
      ]
     },
     "execution_count": 122,
     "metadata": {},
     "output_type": "execute_result"
    }
   ],
   "source": [
    "#multiplying all the reflexion matrices from left to right\n",
    "reflexion_matrix = np.eye(matrix_prev.shape[0])\n",
    "print(reflexion_matrixs)\n",
    "for H in reflexion_matrixs:\n",
    "    reflexion_matrix = H @ reflexion_matrix"
   ]
  },
  {
   "cell_type": "code",
   "execution_count": null,
   "metadata": {},
   "outputs": [],
   "source": []
  }
 ],
 "metadata": {
  "kernelspec": {
   "display_name": "Pytorch",
   "language": "python",
   "name": "python3"
  },
  "language_info": {
   "codemirror_mode": {
    "name": "ipython",
    "version": 3
   },
   "file_extension": ".py",
   "mimetype": "text/x-python",
   "name": "python",
   "nbconvert_exporter": "python",
   "pygments_lexer": "ipython3",
   "version": "3.11.5"
  }
 },
 "nbformat": 4,
 "nbformat_minor": 2
}
