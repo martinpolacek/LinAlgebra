{
 "cells": [
  {
   "cell_type": "code",
   "execution_count": 152,
   "metadata": {},
   "outputs": [],
   "source": [
    "import numpy as np"
   ]
  },
  {
   "cell_type": "code",
   "execution_count": 153,
   "metadata": {},
   "outputs": [],
   "source": [
    "def householder_reflection(a):\n",
    "    v = a / (a[0] - np.copysign(np.linalg.norm(a), a[0]))\n",
    "    v[0] = 1\n",
    "    H = np.eye(len(a)) - 2 * np.outer(v, v) / np.dot(v, v)\n",
    "    return H\n",
    "\n",
    "def bidiagonal_reduction(A):\n",
    "    m, n = A.shape\n",
    "    U, V = np.eye(m), np.eye(n)\n",
    "    \n",
    "    for i in range(min(m, n)):\n",
    "        # Householder pro sloupec\n",
    "        if i < m:\n",
    "            x = A[i:, i]\n",
    "            H_col = np.eye(m)\n",
    "            H_col[i:, i:] = householder_reflection(x)\n",
    "            A = H_col @ A\n",
    "            U = U @ H_col.T\n",
    "        \n",
    "        # Householder pro řádek\n",
    "        if i + 1 < n:\n",
    "            x = A[i, i+1:]\n",
    "            H_row = np.eye(n)\n",
    "            H_row[i+1:, i+1:] = householder_reflection(x)\n",
    "            A = A @ H_row\n",
    "            V = V @ H_row\n",
    "        \n",
    "    return U, A, V.T\n"
   ]
  },
  {
   "cell_type": "code",
   "execution_count": 168,
   "metadata": {},
   "outputs": [
    {
     "name": "stdout",
     "output_type": "stream",
     "text": [
      "Singular values:  [101.72020158  29.47391534  16.55092839   2.8906184 ]\n"
     ]
    },
    {
     "name": "stderr",
     "output_type": "stream",
     "text": [
      "C:\\Users\\Martin Poláček\\AppData\\Local\\Temp\\ipykernel_29084\\1217885087.py:2: RuntimeWarning: divide by zero encountered in divide\n",
      "  v = a / (a[0] - np.copysign(np.linalg.norm(a), a[0]))\n"
     ]
    }
   ],
   "source": [
    "A = np.array([[1,20,3,43],[6,13,7,83],[23,10,15,12], [11,22,3,22]])\n",
    "U, B, V = bidiagonal_reduction(A)\n",
    "\n",
    "#Golub - Kahan algoritmus\n",
    "T = B.T @ B\n",
    "for i in range(10):\n",
    "\n",
    "    Q,R = np.linalg.qr(T)\n",
    "    T = np.dot(R,Q)\n",
    "\n",
    "singular_values = np.sqrt(np.diag(T))\n",
    "\n",
    "print(\"Singular values: \", singular_values)\n"
   ]
  },
  {
   "cell_type": "code",
   "execution_count": 165,
   "metadata": {},
   "outputs": [
    {
     "name": "stdout",
     "output_type": "stream",
     "text": [
      "Singular values (numpy):  [101.72020158  29.47391534  16.55092839   2.8906184 ]\n"
     ]
    }
   ],
   "source": [
    "# Kontrola\n",
    "\n",
    "_, singular_values, _ = np.linalg.svd(A)\n",
    "print(\"Singular values (numpy): \", singular_values)"
   ]
  },
  {
   "cell_type": "code",
   "execution_count": null,
   "metadata": {},
   "outputs": [],
   "source": []
  },
  {
   "cell_type": "code",
   "execution_count": null,
   "metadata": {},
   "outputs": [],
   "source": []
  },
  {
   "cell_type": "code",
   "execution_count": null,
   "metadata": {},
   "outputs": [],
   "source": []
  },
  {
   "cell_type": "code",
   "execution_count": null,
   "metadata": {},
   "outputs": [],
   "source": []
  },
  {
   "cell_type": "code",
   "execution_count": null,
   "metadata": {},
   "outputs": [],
   "source": []
  },
  {
   "cell_type": "code",
   "execution_count": null,
   "metadata": {},
   "outputs": [],
   "source": [
    "\n"
   ]
  },
  {
   "cell_type": "code",
   "execution_count": null,
   "metadata": {},
   "outputs": [],
   "source": []
  },
  {
   "cell_type": "code",
   "execution_count": null,
   "metadata": {},
   "outputs": [],
   "source": []
  }
 ],
 "metadata": {
  "kernelspec": {
   "display_name": "Pytorch",
   "language": "python",
   "name": "python3"
  },
  "language_info": {
   "codemirror_mode": {
    "name": "ipython",
    "version": 3
   },
   "file_extension": ".py",
   "mimetype": "text/x-python",
   "name": "python",
   "nbconvert_exporter": "python",
   "pygments_lexer": "ipython3",
   "version": "3.11.5"
  }
 },
 "nbformat": 4,
 "nbformat_minor": 2
}
